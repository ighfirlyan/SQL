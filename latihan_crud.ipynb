{
 "cells": [
  {
   "cell_type": "code",
   "execution_count": 10,
   "metadata": {},
   "outputs": [],
   "source": [
    "#import library\n",
    "\n",
    "from mysql.connector import connect\n",
    "from dotenv import dotenv_values"
   ]
  },
  {
   "cell_type": "code",
   "execution_count": 11,
   "metadata": {},
   "outputs": [],
   "source": [
    "# memasukkan env ke parameter\n",
    "\n",
    "params = {\n",
    "    'db':dotenv_values('.env')\n",
    "}\n",
    "\n",
    "db_user = params['db']['MYSQL_USERNAME']\n",
    "db_password = params['db']['MYSQL_PASSWORD']\n",
    "db_host = params['db']['MYSQL_HOST']\n",
    "db_port = params['db']['MYSQL_PORT']\n",
    "db_name = params['db']['MYSQL_DB']"
   ]
  },
  {
   "cell_type": "code",
   "execution_count": 12,
   "metadata": {},
   "outputs": [
    {
     "name": "stdout",
     "output_type": "stream",
     "text": [
      "<mysql.connector.connection_cext.CMySQLConnection object at 0x000001C907DCBD30>\n",
      "Database berhasil terkoneksi\n"
     ]
    }
   ],
   "source": [
    "# mengecek koneksi\n",
    "\n",
    "db = connect(\n",
    "    host = db_host,\n",
    "    user = db_user,\n",
    "    password = db_password,\n",
    "    database = db_name\n",
    ")\n",
    "\n",
    "if db:\n",
    "    print(db)\n",
    "    print('Database berhasil terkoneksi')"
   ]
  },
  {
   "cell_type": "code",
   "execution_count": 13,
   "metadata": {},
   "outputs": [],
   "source": [
    "# membuat database\n",
    "\n",
    "try:\n",
    "    cursor_db = db.cursor() \n",
    "    cursor_db.execute(\"CREATE DATABASE IF NOT EXISTS school\")\n",
    "    cursor_db.close()\n",
    "    db.close()\n",
    "except Exception as e:\n",
    "    print(f'Database gagal dibuat: {e}')"
   ]
  },
  {
   "cell_type": "code",
   "execution_count": 14,
   "metadata": {},
   "outputs": [
    {
     "name": "stdout",
     "output_type": "stream",
     "text": [
      "<mysql.connector.connection_cext.CMySQLConnection object at 0x000001C907E69910>\n",
      "Database berhasil terkoneksi\n",
      "Tabel gagal dibuat: 1050 (42S01): Table 'students' already exists\n"
     ]
    }
   ],
   "source": [
    "# membuat table\n",
    "\n",
    "db = connect(\n",
    "    host = db_host,\n",
    "    user = db_user,\n",
    "    password = db_password,\n",
    "    database = db_name\n",
    ")\n",
    "\n",
    "if db:\n",
    "    print(db)\n",
    "    print('Database berhasil terkoneksi')\n",
    "\n",
    "try:\n",
    "    query = '''\n",
    "        CREATE Table students(\n",
    "            id_siswa int primary key auto_increment,\n",
    "            nama VARCHAR(50) not null,\n",
    "            id_kelas int not null,\n",
    "            tahun_masuk int not null)\n",
    "        '''\n",
    "    cursor_db = db.cursor()\n",
    "    cursor_db.execute(query)\n",
    "    print('table berhasil dibuat')\n",
    "except Exception as e:\n",
    "    print(f'Tabel gagal dibuat: {e}')"
   ]
  },
  {
   "cell_type": "code",
   "execution_count": 15,
   "metadata": {},
   "outputs": [
    {
     "name": "stdout",
     "output_type": "stream",
     "text": [
      "Data berhasil dimasukkan\n"
     ]
    }
   ],
   "source": [
    "# input data\n",
    "\n",
    "input_list = [\n",
    "    ('shiroe', 21, 2012),\n",
    "    ('akatsuki', 21, 2012),\n",
    "    ('naotsugu', 21, 2012),\n",
    "    ('minori', 13, 2013),\n",
    "    ('touya', 13, 2013),\n",
    "    ('kanami', 31, 2011)\n",
    "]\n",
    "\n",
    "try:\n",
    "    query= '''\n",
    "    INSERT INTO students (nama, id_kelas, tahun_masuk)\n",
    "    VALUES (%s, %s,%s)\n",
    "    '''\n",
    "    cursor_db = db.cursor()\n",
    "    for data in input_list:\n",
    "        cursor_db.execute(query,data)\n",
    "    db.commit()\n",
    "    cursor_db.close()\n",
    "    print('Data berhasil dimasukkan')\n",
    "except Exception as e:\n",
    "    print(f'Data gagal dimasukkan: {e}')\n",
    "finally:\n",
    "    db.close()"
   ]
  },
  {
   "cell_type": "code",
   "execution_count": 16,
   "metadata": {},
   "outputs": [
    {
     "name": "stdout",
     "output_type": "stream",
     "text": [
      "<mysql.connector.connection_cext.CMySQLConnection object at 0x000001C907E69D90>\n",
      "Database berhasil terkoneksi\n",
      "Data berhasil diubah\n"
     ]
    }
   ],
   "source": [
    "# mengubah data\n",
    "db = connect(\n",
    "    host = db_host,\n",
    "    user = db_user,\n",
    "    password = db_password,\n",
    "    database = db_name\n",
    ")\n",
    "\n",
    "if db:\n",
    "    print(db)\n",
    "    print('Database berhasil terkoneksi')\n",
    "\n",
    "def update_data(nama, kolom, nilai):\n",
    "    query = f'''\n",
    "        UPDATE students\n",
    "        SET \n",
    "            {kolom} = {nilai}\n",
    "        WHERE\n",
    "            nama = '{nama}'\n",
    "        '''\n",
    "    cursor_db = db.cursor()\n",
    "    cursor_db.execute(query)\n",
    "    db.commit()\n",
    "    cursor_db.close()\n",
    "    db.close()\n",
    "try:\n",
    "    update_data('kanami','id_kelas',32)\n",
    "    print('Data berhasil diubah')\n",
    "except Exception as e:\n",
    "    print(f'Data gagal diubah: {e}')"
   ]
  },
  {
   "cell_type": "code",
   "execution_count": 17,
   "metadata": {},
   "outputs": [
    {
     "name": "stdout",
     "output_type": "stream",
     "text": [
      "<mysql.connector.connection_cext.CMySQLConnection object at 0x000001C907E69970>\n",
      "Database berhasil terkoneksi\n",
      "Data berhasil dihapus\n"
     ]
    }
   ],
   "source": [
    "# menghapus data pada table\n",
    "\n",
    "db = connect(\n",
    "    host = db_host,\n",
    "    user = db_user,\n",
    "    password = db_password,\n",
    "    database = db_name\n",
    ")\n",
    "\n",
    "if db:\n",
    "    print(db)\n",
    "    print('Database berhasil terkoneksi')\n",
    "\n",
    "def delete_data(nama):\n",
    "    query = f'''\n",
    "            DELETE FROM students\n",
    "            WHERE\n",
    "                nama = \"{nama}\"\n",
    "            '''\n",
    "    cursor_db = db.cursor()\n",
    "    cursor_db.execute(query)\n",
    "    db.commit()\n",
    "    cursor_db.close()\n",
    "    db.close()\n",
    "\n",
    "try:\n",
    "    delete_data('touya')\n",
    "    print('Data berhasil dihapus')\n",
    "except Exception as e:\n",
    "    print(f'Data gagal dihapus: {e}')"
   ]
  },
  {
   "cell_type": "code",
   "execution_count": 18,
   "metadata": {},
   "outputs": [
    {
     "name": "stdout",
     "output_type": "stream",
     "text": [
      "Data gagal diambil: MySQL Connection not available.\n"
     ]
    }
   ],
   "source": [
    "def search_all():\n",
    "    query = '''\n",
    "    SELECT * FROM STUDENTS\n",
    "    '''\n",
    "\n",
    "    cursor_db = db.cursor()\n",
    "    cursor_db.execute(query)\n",
    "    result = cursor_db.fetchall()\n",
    "    cursor_db = db.close()\n",
    "\n",
    "    for student in result:\n",
    "        print(student)\n",
    "try:\n",
    "    search_all()\n",
    "except Exception as e:\n",
    "    print(f'Data gagal diambil: {e}')"
   ]
  }
 ],
 "metadata": {
  "interpreter": {
   "hash": "3454bc21589f5bc48f743d0fde9bff51384294738c6356029fae86a372931a9f"
  },
  "kernelspec": {
   "display_name": "Python 3.9.4 64-bit",
   "language": "python",
   "name": "python3"
  },
  "language_info": {
   "codemirror_mode": {
    "name": "ipython",
    "version": 3
   },
   "file_extension": ".py",
   "mimetype": "text/x-python",
   "name": "python",
   "nbconvert_exporter": "python",
   "pygments_lexer": "ipython3",
   "version": "3.9.4"
  },
  "orig_nbformat": 4
 },
 "nbformat": 4,
 "nbformat_minor": 2
}
