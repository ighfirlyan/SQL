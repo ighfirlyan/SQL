{
 "cells": [
  {
   "cell_type": "markdown",
   "metadata": {},
   "source": [
    "Pada Tugas kali ini kita akan membuat 4 function yang memiliki fungsinya masing-masing.\n",
    "Data yang diambil berasal dari berkas imdb_movie_dumpfile.sql\n",
    "Silahkan import dumpfile tersebut dengan menggunakan terminal/cmd.\n",
    "\n",
    "Jika ada proses yang dilakukan boleh dilakukan dari query sql, atau menggunakan python setelah semua data ditampilkan menggunakan sql. "
   ]
  },
  {
   "cell_type": "code",
   "execution_count": 2,
   "metadata": {},
   "outputs": [
    {
     "ename": "KeyError",
     "evalue": "'MYSQL_USERNAME'",
     "output_type": "error",
     "traceback": [
      "\u001b[1;31m---------------------------------------------------------------------------\u001b[0m",
      "\u001b[1;31mKeyError\u001b[0m                                  Traceback (most recent call last)",
      "\u001b[1;32mC:\\Users\\IGHFIR~1\\AppData\\Local\\Temp/ipykernel_29128/1171491494.py\u001b[0m in \u001b[0;36m<module>\u001b[1;34m\u001b[0m\n\u001b[0;32m      8\u001b[0m }\n\u001b[0;32m      9\u001b[0m \u001b[1;33m\u001b[0m\u001b[0m\n\u001b[1;32m---> 10\u001b[1;33m \u001b[0mdb_user\u001b[0m \u001b[1;33m=\u001b[0m \u001b[0mparams\u001b[0m\u001b[1;33m[\u001b[0m\u001b[1;34m'db'\u001b[0m\u001b[1;33m]\u001b[0m\u001b[1;33m[\u001b[0m\u001b[1;34m'MYSQL_USERNAME'\u001b[0m\u001b[1;33m]\u001b[0m\u001b[1;33m\u001b[0m\u001b[1;33m\u001b[0m\u001b[0m\n\u001b[0m\u001b[0;32m     11\u001b[0m \u001b[0mdb_password\u001b[0m \u001b[1;33m=\u001b[0m \u001b[0mparams\u001b[0m\u001b[1;33m[\u001b[0m\u001b[1;34m'db'\u001b[0m\u001b[1;33m]\u001b[0m\u001b[1;33m[\u001b[0m\u001b[1;34m'MYSQL_PASSWORD'\u001b[0m\u001b[1;33m]\u001b[0m\u001b[1;33m\u001b[0m\u001b[1;33m\u001b[0m\u001b[0m\n\u001b[0;32m     12\u001b[0m \u001b[0mdb_host\u001b[0m \u001b[1;33m=\u001b[0m \u001b[0mparams\u001b[0m\u001b[1;33m[\u001b[0m\u001b[1;34m'db'\u001b[0m\u001b[1;33m]\u001b[0m\u001b[1;33m[\u001b[0m\u001b[1;34m'MYSQL_HOST'\u001b[0m\u001b[1;33m]\u001b[0m\u001b[1;33m\u001b[0m\u001b[1;33m\u001b[0m\u001b[0m\n",
      "\u001b[1;31mKeyError\u001b[0m: 'MYSQL_USERNAME'"
     ]
    }
   ],
   "source": [
    "#Taruh semua library/package dsini\n",
    "\n",
    "from mysql.connector import connect\n",
    "from dotenv import dotenv_values\n",
    "\n",
    "params = {\n",
    "    'db':dotenv_values('.env')\n",
    "}\n",
    "\n",
    "db_user = params['db']['MYSQL_USERNAME']\n",
    "db_password = params['db']['MYSQL_PASSWORD']\n",
    "db_host = params['db']['MYSQL_HOST']\n",
    "db_port = params['db']['MYSQL_PORT']\n",
    "db_name = params['db']['MYSQL_DB']"
   ]
  },
  {
   "cell_type": "code",
   "execution_count": null,
   "metadata": {},
   "outputs": [
    {
     "name": "stdout",
     "output_type": "stream",
     "text": [
      "<mysql.connector.connection_cext.CMySQLConnection object at 0x000002453DB74A90>\n",
      "Database berhasil terkoneksi\n"
     ]
    }
   ],
   "source": [
    "#Pada sel ini peserta diminta untuk melakukan koneksi terhadap database.\n",
    "\n",
    "db = connect(\n",
    "    host = db_host,\n",
    "    user = db_user,\n",
    "    password = db_password,\n",
    "    database = db_name\n",
    ")\n",
    "\n",
    "if db:\n",
    "    print(db)\n",
    "    print('Database berhasil terkoneksi')"
   ]
  },
  {
   "cell_type": "markdown",
   "metadata": {},
   "source": [
    "1. Peserta diminta untuk membuat sebuah fungsi yang tugasnya adalah untuk menampilkan 5 direktur dengan jumlah film terbanyak dalam daftar. Data tersebut akan menampilkan secara terurut dari urutan 1 (paling banyak) ke 5."
   ]
  },
  {
   "cell_type": "code",
   "execution_count": null,
   "metadata": {},
   "outputs": [],
   "source": [
    "db = connect(\n",
    "    host = db_host,\n",
    "    user = db_user,\n",
    "    password = db_password,\n",
    "    database = db_name\n",
    ")\n",
    "\n",
    "\n",
    "def most_maker_director():\n",
    "    query = f'''\n",
    "    select director_name from movies\n",
    "    where director_name is not null\n",
    "    group by director_name\n",
    "    order by count(*) desc\n",
    "    limit 5\n",
    "    ;\n",
    "    '''\n",
    "    cursor_db = db.cursor()\n",
    "    cursor_db.execute(query)\n",
    "    result = cursor_db.fetchall()\n",
    "\n",
    "    for count, director in enumerate(result, start=1):\n",
    "        print(count, director[0])"
   ]
  },
  {
   "cell_type": "markdown",
   "metadata": {},
   "source": [
    "2. Peserta diminta untuk membuat sebuah fungsi yang tugasnya adalah untuk menampilkan 10 direktur dengan total jumlah pendapatan terbesar untuk semua film yang dia buat. Data tersebut akan menampilkan secara terurut dari urutan 1 (paling banyak) ke 10 beserta total pendapatan dari masing-masing direktur.\n",
    "\n",
    "Pendapatan bisa didapatkan dari nilai gross"
   ]
  },
  {
   "cell_type": "code",
   "execution_count": null,
   "metadata": {},
   "outputs": [],
   "source": [
    "db = connect(\n",
    "    host = db_host,\n",
    "    user = db_user,\n",
    "    password = db_password,\n",
    "    database = db_name\n",
    ")\n",
    "\n",
    "def most_profitable_director():\n",
    "    query = f'''\n",
    "    select director_name, sum(gross) as profit\n",
    "    from movies\n",
    "    where gross is not null\n",
    "    group by director_name\n",
    "    order by profit desc\n",
    "    limit 10\n",
    "    ;\n",
    "    '''\n",
    "    cursor_db = db.cursor()\n",
    "    cursor_db.execute(query)\n",
    "    result = cursor_db.fetchall()\n",
    "\n",
    "    for count, column in enumerate(result, start=1):\n",
    "        print(count, column[0], '-', column[1])"
   ]
  },
  {
   "cell_type": "markdown",
   "metadata": {},
   "source": [
    "3. Peserta diminta untuk membuat sebuah fungsi yang tugasnya adalah untuk menampilkan 15 film dengan pendapatan terbesar. Data tersebut akan menampilkan secara terurut dari urutan 1 (paling banyak) ke 15 beserta pendapatan dari masing-masing film"
   ]
  },
  {
   "cell_type": "code",
   "execution_count": null,
   "metadata": {},
   "outputs": [],
   "source": [
    "db = connect(\n",
    "    host = db_host,\n",
    "    user = db_user,\n",
    "    password = db_password,\n",
    "    database = db_name\n",
    ")\n",
    "\n",
    "def most_profitable_movie():\n",
    "    query = f'''\n",
    "    select movie_title, title_year, gross as profit\n",
    "    from movies\n",
    "    where gross is not null\n",
    "    group by movie_title\n",
    "    order by profit desc\n",
    "    limit 15\n",
    "    ;\n",
    "    '''\n",
    "    cursor_db = db.cursor()\n",
    "    cursor_db.execute(query)\n",
    "    result = cursor_db.fetchall()\n",
    "\n",
    "    for count, column in enumerate(result, start=1):\n",
    "        print(count, column[0], '(',(int(column[1])),')', '-', column[2])"
   ]
  },
  {
   "cell_type": "markdown",
   "metadata": {},
   "source": [
    "4. Peserta diminta untuk membuat sebuah fungsi yang tugasnya adalah untuk menampilkan plot distribusi budget dari semua film pada tahun yang ditentukan. fungsi ini memiliki input, yaitu adalah tahun."
   ]
  },
  {
   "cell_type": "code",
   "execution_count": null,
   "metadata": {},
   "outputs": [],
   "source": [
    "import pandas as pd\n",
    "import numpy as np\n",
    "import matplotlib.pyplot as plt\n",
    "import seaborn as sns"
   ]
  },
  {
   "cell_type": "code",
   "execution_count": null,
   "metadata": {},
   "outputs": [],
   "source": [
    "db = connect(\n",
    "    host = db_host,\n",
    "    user = db_user,\n",
    "    password = db_password,\n",
    "    database = db_name\n",
    ")\n",
    "\n",
    "def budget_distribution(year):\n",
    "    query = f'''\n",
    "    select budget \n",
    "    from movies\n",
    "    where title_year = \"{year}\"\n",
    "    ;\n",
    "    '''\n",
    "    cursor_db = db.cursor()\n",
    "    cursor_db.execute(query)\n",
    "    result = cursor_db.fetchall()\n",
    "\n",
    "    list_result = list(result)\n",
    "    df = pd.DataFrame(list_result)\n",
    "\n",
    "    fig, ax = plt.subplots()\n",
    "    sns.histplot(data=df, x=0, color= 'blue', kde=True)\n",
    "    ax.set(xlabel='budget', ylabel='count')\n",
    "    ax.set_title('Budget movie year 2021')"
   ]
  },
  {
   "cell_type": "markdown",
   "metadata": {},
   "source": [
    "Semua sel di bawah digunakan untuk pemanggilan fungsi dan menunjukan hasil yang diharapkan."
   ]
  },
  {
   "cell_type": "code",
   "execution_count": null,
   "metadata": {},
   "outputs": [
    {
     "name": "stdout",
     "output_type": "stream",
     "text": [
      "1 Steven Spielberg\n",
      "2 Woody Allen\n",
      "3 Martin Scorsese\n",
      "4 Clint Eastwood\n",
      "5 Ridley Scott\n"
     ]
    }
   ],
   "source": [
    "most_maker_director()"
   ]
  },
  {
   "cell_type": "code",
   "execution_count": null,
   "metadata": {},
   "outputs": [
    {
     "name": "stdout",
     "output_type": "stream",
     "text": [
      "1 Steven Spielberg - 4114233101.0\n",
      "2 Peter Jackson - 2592969279.0\n",
      "3 Michael Bay - 2231242537.0\n",
      "4 Tim Burton - 2071275480.0\n",
      "5 Sam Raimi - 2049549198.0\n",
      "6 James Cameron - 1948125910.0\n",
      "7 Christopher Nolan - 1813227576.0\n",
      "8 George Lucas - 1741418480.0\n",
      "9 Joss Whedon - 1730886628.0\n",
      "10 Robert Zemeckis - 1619309108.0\n"
     ]
    }
   ],
   "source": [
    "most_profitable_director()"
   ]
  },
  {
   "cell_type": "code",
   "execution_count": null,
   "metadata": {},
   "outputs": [
    {
     "name": "stdout",
     "output_type": "stream",
     "text": [
      "1 Avatar  ( 2009 ) - 760505847.0\n",
      "2 Titanic  ( 1997 ) - 658672302.0\n",
      "3 Jurassic World  ( 2015 ) - 652177271.0\n",
      "4 The Avengers  ( 2012 ) - 623279547.0\n",
      "5 The Dark Knight  ( 2008 ) - 533316061.0\n",
      "6 Star Wars: Episode I - The Phantom Menace  ( 1999 ) - 474544677.0\n",
      "7 Star Wars: Episode IV - A New Hope  ( 1977 ) - 460935665.0\n",
      "8 Avengers: Age of Ultron  ( 2015 ) - 458991599.0\n",
      "9 The Dark Knight Rises  ( 2012 ) - 448130642.0\n",
      "10 Shrek 2  ( 2004 ) - 436471036.0\n",
      "11 E.T. the Extra-Terrestrial  ( 1982 ) - 434949459.0\n",
      "12 The Hunger Games: Catching Fire  ( 2013 ) - 424645577.0\n",
      "13 Pirates of the Caribbean: Dead Man's Chest  ( 2006 ) - 423032628.0\n",
      "14 The Lion King  ( 1994 ) - 422783777.0\n",
      "15 Toy Story 3  ( 2010 ) - 414984497.0\n"
     ]
    }
   ],
   "source": [
    "most_profitable_movie()"
   ]
  },
  {
   "cell_type": "code",
   "execution_count": null,
   "metadata": {},
   "outputs": [
    {
     "data": {
      "image/png": "[encoded data removed]",
      "text/plain": [
       "<Figure size 432x288 with 1 Axes>"
      ]
     },
     "metadata": {
      "needs_background": "light"
     },
     "output_type": "display_data"
    }
   ],
   "source": [
    "year = 2001\n",
    "budget_distribution(2001)\n"
   ]
  }
 ],
 "metadata": {
  "interpreter": {
   "hash": "b02d93efda564da1915d42b0288c26f05ac833e7645184a564f32e638d57cc3e"
  },
  "kernelspec": {
   "display_name": "Python 3.8.6 64-bit ('public_op': virtualenv)",
   "language": "python",
   "name": "python3"
  },
  "language_info": {
   "codemirror_mode": {
    "name": "ipython",
    "version": 3
   },
   "file_extension": ".py",
   "mimetype": "text/x-python",
   "name": "python",
   "nbconvert_exporter": "python",
   "pygments_lexer": "ipython3",
   "version": "3.9.4"
  },
  "orig_nbformat": 4
 },
 "nbformat": 4,
 "nbformat_minor": 2
}
